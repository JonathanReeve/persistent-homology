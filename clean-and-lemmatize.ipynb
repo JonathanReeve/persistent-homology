{
 "cells": [
  {
   "cell_type": "code",
   "execution_count": 70,
   "metadata": {
    "collapsed": false
   },
   "outputs": [],
   "source": [
    "import spacy"
   ]
  },
  {
   "cell_type": "code",
   "execution_count": 71,
   "metadata": {
    "collapsed": true
   },
   "outputs": [],
   "source": [
    "nlp = spacy.load('en')"
   ]
  },
  {
   "cell_type": "code",
   "execution_count": 72,
   "metadata": {
    "collapsed": true
   },
   "outputs": [],
   "source": [
    "def load(filename): \n",
    "    with open(filename) as f: \n",
    "        raw = f.read()\n",
    "    return nlp(raw)"
   ]
  },
  {
   "cell_type": "code",
   "execution_count": 73,
   "metadata": {
    "collapsed": false
   },
   "outputs": [],
   "source": [
    "def reduceAndLemmatize(doc, cutoff=-8.0): \n",
    "    \"\"\" \n",
    "    Gets highly improbable words from the document (less than the cutoff), \n",
    "    and returns a list of numeric representations of those words' lemmas. \n",
    "    \"\"\"\n",
    "    probs = [w.prob for w in doc]\n",
    "    improb = [w for w in doc if w.prob < cutoff ]\n",
    "    lemmas = [w.lemma for w in improb]\n",
    "    return lemmas"
   ]
  },
  {
   "cell_type": "code",
   "execution_count": 74,
   "metadata": {
    "collapsed": false
   },
   "outputs": [],
   "source": [
    "def write(data, filename): \n",
    "    stringData = ' '.join([str(lemma) for lemma in data])\n",
    "    with open(filename, 'w') as f: \n",
    "        f.write(stringData)"
   ]
  },
  {
   "cell_type": "code",
   "execution_count": 75,
   "metadata": {
    "collapsed": false
   },
   "outputs": [],
   "source": [
    "def renumber(lemmas): \n",
    "    \"\"\" \n",
    "    Turns a list of numeric representations of lemmas like: \n",
    "    1030500, 10300082, etc. into manageable numbers like 1, 82, 300. \n",
    "    \"\"\"\n",
    "    # Renumber them with smaller numbers. \n",
    "    lookupTable = {x[1]: x[0] for x in enumerate(set(lemmas))}\n",
    "    lemmasRenumbered = [lookupTable[lemma] for lemma in lemmas]\n",
    "    return lemmasRenumbered"
   ]
  },
  {
   "cell_type": "code",
   "execution_count": 76,
   "metadata": {
    "collapsed": true
   },
   "outputs": [],
   "source": [
    "doc = load('garden-party.txt')"
   ]
  },
  {
   "cell_type": "code",
   "execution_count": 77,
   "metadata": {
    "collapsed": true
   },
   "outputs": [],
   "source": [
    "lemmas = reduceAndLemmatize(doc)"
   ]
  },
  {
   "cell_type": "code",
   "execution_count": 79,
   "metadata": {
    "collapsed": true
   },
   "outputs": [],
   "source": [
    "lemmasRenumbered = renumber(lemmas)"
   ]
  },
  {
   "cell_type": "code",
   "execution_count": 80,
   "metadata": {
    "collapsed": false
   },
   "outputs": [],
   "source": [
    "write(lemmasRenumbered, 'garden-lemmas-renumbered.txt')"
   ]
  }
 ],
 "metadata": {
  "kernelspec": {
   "display_name": "Python 3",
   "language": "python",
   "name": "python3"
  },
  "language_info": {
   "codemirror_mode": {
    "name": "ipython",
    "version": 3
   },
   "file_extension": ".py",
   "mimetype": "text/x-python",
   "name": "python",
   "nbconvert_exporter": "python",
   "pygments_lexer": "ipython3",
   "version": "3.6.0"
  }
 },
 "nbformat": 4,
 "nbformat_minor": 2
}
